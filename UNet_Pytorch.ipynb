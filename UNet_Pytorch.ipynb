{
  "nbformat": 4,
  "nbformat_minor": 0,
  "metadata": {
    "colab": {
      "provenance": [],
      "gpuType": "T4",
      "authorship_tag": "ABX9TyMxl8BVmqBvOfQsqK8qVxn5",
      "include_colab_link": true
    },
    "kernelspec": {
      "name": "python3",
      "display_name": "Python 3"
    },
    "language_info": {
      "name": "python"
    },
    "accelerator": "GPU"
  },
  "cells": [
    {
      "cell_type": "markdown",
      "metadata": {
        "id": "view-in-github",
        "colab_type": "text"
      },
      "source": [
        "<a href=\"https://colab.research.google.com/github/mirkhalilrehman/Image-Segmentation-UNet-Pytorch/blob/main/UNet_Pytorch.ipynb\" target=\"_parent\"><img src=\"https://colab.research.google.com/assets/colab-badge.svg\" alt=\"Open In Colab\"/></a>"
      ]
    },
    {
      "cell_type": "code",
      "source": [
        "#To be continued not completed"
      ],
      "metadata": {
        "id": "adYH_4qd7irT"
      },
      "execution_count": 3,
      "outputs": []
    },
    {
      "cell_type": "code",
      "source": [
        "from google.colab import drive\n",
        "drive.mount('/content/drive')"
      ],
      "metadata": {
        "colab": {
          "base_uri": "https://localhost:8080/"
        },
        "id": "NYVR4ZVqymlT",
        "outputId": "a52caa0d-3901-48ef-9c12-4d051a782f83"
      },
      "execution_count": 1,
      "outputs": [
        {
          "output_type": "stream",
          "name": "stdout",
          "text": [
            "Mounted at /content/drive\n"
          ]
        }
      ]
    },
    {
      "cell_type": "code",
      "source": [
        "import zipfile\n",
        "\n",
        "# Specify the path to the zip file in your Google Drive\n",
        "zip_file_path = '/content/drive/MyDrive/lungs.zip'\n",
        "\n",
        "# Specify the directory where you want to extract the files\n",
        "extract_dir = '/content/drive/MyDrive/lungs/'\n",
        "\n",
        "# Unzip the file\n",
        "with zipfile.ZipFile(zip_file_path, 'r') as zip_ref:\n",
        "    zip_ref.extractall(extract_dir)\n",
        "\n",
        "print(f\"Files extracted to {extract_dir}\")\n"
      ],
      "metadata": {
        "colab": {
          "base_uri": "https://localhost:8080/",
          "height": 356
        },
        "id": "XABMDSoT0klZ",
        "outputId": "f0148f88-11a8-437b-cc55-97a3bafe50ec"
      },
      "execution_count": 2,
      "outputs": [
        {
          "output_type": "error",
          "ename": "KeyboardInterrupt",
          "evalue": "",
          "traceback": [
            "\u001b[0;31m---------------------------------------------------------------------------\u001b[0m",
            "\u001b[0;31mKeyboardInterrupt\u001b[0m                         Traceback (most recent call last)",
            "\u001b[0;32m<ipython-input-2-9550d8bf1547>\u001b[0m in \u001b[0;36m<cell line: 0>\u001b[0;34m()\u001b[0m\n\u001b[1;32m      9\u001b[0m \u001b[0;31m# Unzip the file\u001b[0m\u001b[0;34m\u001b[0m\u001b[0;34m\u001b[0m\u001b[0m\n\u001b[1;32m     10\u001b[0m \u001b[0;32mwith\u001b[0m \u001b[0mzipfile\u001b[0m\u001b[0;34m.\u001b[0m\u001b[0mZipFile\u001b[0m\u001b[0;34m(\u001b[0m\u001b[0mzip_file_path\u001b[0m\u001b[0;34m,\u001b[0m \u001b[0;34m'r'\u001b[0m\u001b[0;34m)\u001b[0m \u001b[0;32mas\u001b[0m \u001b[0mzip_ref\u001b[0m\u001b[0;34m:\u001b[0m\u001b[0;34m\u001b[0m\u001b[0;34m\u001b[0m\u001b[0m\n\u001b[0;32m---> 11\u001b[0;31m     \u001b[0mzip_ref\u001b[0m\u001b[0;34m.\u001b[0m\u001b[0mextractall\u001b[0m\u001b[0;34m(\u001b[0m\u001b[0mextract_dir\u001b[0m\u001b[0;34m)\u001b[0m\u001b[0;34m\u001b[0m\u001b[0;34m\u001b[0m\u001b[0m\n\u001b[0m\u001b[1;32m     12\u001b[0m \u001b[0;34m\u001b[0m\u001b[0m\n\u001b[1;32m     13\u001b[0m \u001b[0mprint\u001b[0m\u001b[0;34m(\u001b[0m\u001b[0;34mf\"Files extracted to {extract_dir}\"\u001b[0m\u001b[0;34m)\u001b[0m\u001b[0;34m\u001b[0m\u001b[0;34m\u001b[0m\u001b[0m\n",
            "\u001b[0;32m/usr/lib/python3.11/zipfile.py\u001b[0m in \u001b[0;36mextractall\u001b[0;34m(self, path, members, pwd)\u001b[0m\n\u001b[1;32m   1700\u001b[0m \u001b[0;34m\u001b[0m\u001b[0m\n\u001b[1;32m   1701\u001b[0m         \u001b[0;32mfor\u001b[0m \u001b[0mzipinfo\u001b[0m \u001b[0;32min\u001b[0m \u001b[0mmembers\u001b[0m\u001b[0;34m:\u001b[0m\u001b[0;34m\u001b[0m\u001b[0;34m\u001b[0m\u001b[0m\n\u001b[0;32m-> 1702\u001b[0;31m             \u001b[0mself\u001b[0m\u001b[0;34m.\u001b[0m\u001b[0m_extract_member\u001b[0m\u001b[0;34m(\u001b[0m\u001b[0mzipinfo\u001b[0m\u001b[0;34m,\u001b[0m \u001b[0mpath\u001b[0m\u001b[0;34m,\u001b[0m \u001b[0mpwd\u001b[0m\u001b[0;34m)\u001b[0m\u001b[0;34m\u001b[0m\u001b[0;34m\u001b[0m\u001b[0m\n\u001b[0m\u001b[1;32m   1703\u001b[0m \u001b[0;34m\u001b[0m\u001b[0m\n\u001b[1;32m   1704\u001b[0m     \u001b[0;34m@\u001b[0m\u001b[0mclassmethod\u001b[0m\u001b[0;34m\u001b[0m\u001b[0;34m\u001b[0m\u001b[0m\n",
            "\u001b[0;32m/usr/lib/python3.11/zipfile.py\u001b[0m in \u001b[0;36m_extract_member\u001b[0;34m(self, member, targetpath, pwd)\u001b[0m\n\u001b[1;32m   1754\u001b[0m \u001b[0;34m\u001b[0m\u001b[0m\n\u001b[1;32m   1755\u001b[0m         \u001b[0;32mwith\u001b[0m \u001b[0mself\u001b[0m\u001b[0;34m.\u001b[0m\u001b[0mopen\u001b[0m\u001b[0;34m(\u001b[0m\u001b[0mmember\u001b[0m\u001b[0;34m,\u001b[0m \u001b[0mpwd\u001b[0m\u001b[0;34m=\u001b[0m\u001b[0mpwd\u001b[0m\u001b[0;34m)\u001b[0m \u001b[0;32mas\u001b[0m \u001b[0msource\u001b[0m\u001b[0;34m,\u001b[0m\u001b[0;31m \u001b[0m\u001b[0;31m\\\u001b[0m\u001b[0;34m\u001b[0m\u001b[0;34m\u001b[0m\u001b[0m\n\u001b[0;32m-> 1756\u001b[0;31m              \u001b[0mopen\u001b[0m\u001b[0;34m(\u001b[0m\u001b[0mtargetpath\u001b[0m\u001b[0;34m,\u001b[0m \u001b[0;34m\"wb\"\u001b[0m\u001b[0;34m)\u001b[0m \u001b[0;32mas\u001b[0m \u001b[0mtarget\u001b[0m\u001b[0;34m:\u001b[0m\u001b[0;34m\u001b[0m\u001b[0;34m\u001b[0m\u001b[0m\n\u001b[0m\u001b[1;32m   1757\u001b[0m             \u001b[0mshutil\u001b[0m\u001b[0;34m.\u001b[0m\u001b[0mcopyfileobj\u001b[0m\u001b[0;34m(\u001b[0m\u001b[0msource\u001b[0m\u001b[0;34m,\u001b[0m \u001b[0mtarget\u001b[0m\u001b[0;34m)\u001b[0m\u001b[0;34m\u001b[0m\u001b[0;34m\u001b[0m\u001b[0m\n\u001b[1;32m   1758\u001b[0m \u001b[0;34m\u001b[0m\u001b[0m\n",
            "\u001b[0;31mKeyboardInterrupt\u001b[0m: "
          ]
        }
      ]
    },
    {
      "cell_type": "code",
      "source": [
        "os.listdir('/content/drive/MyDrive/lungs/')"
      ],
      "metadata": {
        "id": "r1E7HfqK1CFE"
      },
      "execution_count": null,
      "outputs": []
    },
    {
      "cell_type": "code",
      "source": [],
      "metadata": {
        "id": "pFR0rpND5m_E"
      },
      "execution_count": null,
      "outputs": []
    },
    {
      "cell_type": "code",
      "execution_count": 19,
      "metadata": {
        "id": "eSSrjMJyl0qP"
      },
      "outputs": [],
      "source": [
        "import torch\n",
        "import torch.nn as nn\n",
        "import torch.nn.functional as F\n",
        "import torch.optim as optim\n",
        "import torchvision.transforms as transforms\n",
        "import torchvision\n",
        "from torch.utils.data import Dataset,DataLoader\n",
        "import matplotlib.pyplot as plt\n",
        "import os\n",
        "from PIL import Image\n",
        ""
      ]
    },
    {
      "cell_type": "code",
      "source": [
        "class UNet(nn.Module):\n",
        "  def __init__(self,in_channels,out_channels):\n",
        "    super(UNet,self).__init__()\n",
        "    self.enc1 = self.conv_block(in_channels, 64)\n",
        "    self.enc2 = self.conv_block(64, 128)\n",
        "    self.enc3 = self.conv_block(128, 256)\n",
        "    self.enc4 = self.conv_block(256, 512)\n",
        "    self.pool = nn.MaxPool2d(kernel_size=2, stride=2)\n",
        "\n",
        "    self.upconv3=nn.ConvTranspose2d(512,256,kernel_size=2, stride=2)\n",
        "    self.upconv2=nn.ConvTranspose2d(256,128,kernel_size=2, stride=2)\n",
        "    self.upconv1=nn.ConvTranspose2d(128,64,kernel_size=2, stride=2)\n",
        "\n",
        "    self.dec1=self.conv_block(512,256)\n",
        "    self.dec2=self.conv_block(256,128)\n",
        "    self.dec3=self.conv_block(128,64)\n",
        "    self.out=nn.Conv2d(64,out_channels=out_channels,kernel_size=1)\n",
        "\n",
        "  def conv_block(self,in_channels,out_channels):\n",
        "    return nn.Sequential([\n",
        "        nn.Conv2d(in_channels,out_channels,kernel_size=3,padding=1),\n",
        "        nn.BatchNorm2d(out_channels),\n",
        "        nn.ReLU(inplace=True),\n",
        "         nn.Conv2d(out_channels,out_channels,kernel_size=3,padding=1),\n",
        "        nn.BatchNorm2d(out_channels),\n",
        "        nn.ReLU(inplace=True)\n",
        "    ])\n",
        "\n",
        "  def forward(self,x):\n",
        "    x1=self.enc1(x)\n",
        "    x2=self.enc2(self.pool(x1))\n",
        "    x3=self.enc3(self.pool(x2))\n",
        "    x4=self.enc4(self.pool(x3))\n",
        "\n",
        "    x=self.upconv3(x4)\n",
        "    x=torch.cat([x,x3],dim=1)\n",
        "    x=self.dec1(x)\n",
        "\n",
        "    x=self.upconv2(x)\n",
        "    x=torch.cat([x,x2],dim=1)\n",
        "    x=self.dec2(x)\n",
        "\n",
        "    x=self.upconv1(x)\n",
        "    x=torch.cat([x,x1],dim=1)\n",
        "    x=self.dec3(x)\n",
        "\n",
        "    return self.out(x)\n",
        "\n"
      ],
      "metadata": {
        "id": "-qXoFevxmGd0"
      },
      "execution_count": 20,
      "outputs": []
    },
    {
      "cell_type": "code",
      "source": [
        "class LungSegmentation(Dataset):\n",
        "    def __init__(self, image_paths, mask_paths, image_transform=None, mask_transform=None):\n",
        "        self.image_paths = image_paths\n",
        "        self.mask_paths = mask_paths\n",
        "        self.image_filenames = sorted(os.listdir(image_paths))\n",
        "        self.mask_filenames = sorted(os.listdir(mask_paths))\n",
        "        self.image_transform = image_transform\n",
        "        self.mask_transform = mask_transform\n",
        "\n",
        "    def __len__(self):\n",
        "        return len(self.image_filenames)\n",
        "\n",
        "    def __getitem__(self, idx):\n",
        "        image_dir = os.path.join(self.image_paths, self.image_filenames[idx])\n",
        "        mask_dir = os.path.join(self.mask_paths, self.mask_filenames[idx])\n",
        "\n",
        "        image = Image.open(image_dir).convert('RGB')\n",
        "        mask = Image.open(mask_dir).convert('L')\n",
        "\n",
        "        if self.image_transform:\n",
        "            image = self.image_transform(image)\n",
        "        if self.mask_transform:\n",
        "            mask = self.mask_transform(mask)\n",
        "\n",
        "        mask = mask.squeeze(0)\n",
        "        mask = torch.where(mask > 0, 1, 0).float()\n",
        "\n",
        "        return image, mask"
      ],
      "metadata": {
        "id": "0PeBKbWfylUk"
      },
      "execution_count": 23,
      "outputs": []
    },
    {
      "cell_type": "code",
      "source": [
        "image_transform = transforms.Compose([\n",
        "    transforms.Resize((256, 256)),\n",
        "    transforms.ToTensor(),\n",
        "    transforms.Normalize(mean=[0.485, 0.456, 0.406], std=[0.229, 0.224, 0.225])\n",
        "])\n",
        "\n",
        "mask_transform = transforms.Compose([\n",
        "    transforms.Resize((256, 256)),\n",
        "    transforms.ToTensor()\n",
        "])\n",
        ""
      ],
      "metadata": {
        "id": "zPJ_qpyLz7O8"
      },
      "execution_count": 26,
      "outputs": []
    },
    {
      "cell_type": "code",
      "source": [
        "images_path = \"/content/drive/MyDrive/lungs/CXR_png\"\n",
        "masks_path = \"/content/drive/MyDrive/lungs/masks\""
      ],
      "metadata": {
        "id": "a1NIjUP81WiH"
      },
      "execution_count": 27,
      "outputs": []
    },
    {
      "cell_type": "code",
      "source": [
        "dataset = LungSegmentation(images_path, masks_path, image_transform=image_transform, mask_transform=mask_transform)\n"
      ],
      "metadata": {
        "id": "EorrGn_O1oQC"
      },
      "execution_count": 28,
      "outputs": []
    },
    {
      "cell_type": "code",
      "source": [
        "from sklearn.model_selection import train_test_split"
      ],
      "metadata": {
        "id": "wsM1tx4x1xnU"
      },
      "execution_count": 30,
      "outputs": []
    },
    {
      "cell_type": "code",
      "source": [
        "len(dataset)"
      ],
      "metadata": {
        "colab": {
          "base_uri": "https://localhost:8080/"
        },
        "id": "IgmZLXfV2ME8",
        "outputId": "984a9d0f-f6b7-40d6-ffaf-7a8d36071396"
      },
      "execution_count": 32,
      "outputs": [
        {
          "output_type": "execute_result",
          "data": {
            "text/plain": [
              "800"
            ]
          },
          "metadata": {},
          "execution_count": 32
        }
      ]
    },
    {
      "cell_type": "code",
      "source": [
        "import os\n",
        "\n",
        "# Define the directories\n",
        "image_dir = '/content/drive/MyDrive/lungs/CXR_png'\n",
        "mask_dir = '/content/drive/MyDrive/lungs/masks'\n",
        "\n",
        "# List the filenames in both directories\n",
        "def remove_extension(filename):\n",
        "    return os.path.splitext(filename)[0]\n",
        "\n",
        "# Remove extensions and get base names for both images and masks\n",
        "image_basenames = [remove_extension(f) for f in image_filenames]\n",
        "mask_basenames = [remove_extension(f) for f in mask_filenames]\n",
        "\n",
        "# Check for any filenames in one list that are missing in the other\n",
        "missing_images = [mask for mask in mask_basenames if mask not in image_basenames]\n",
        "missing_masks = [image for image in image_basenames if image not in mask_basenames]\n",
        "\n",
        "# Print the results\n",
        "if missing_images:\n",
        "    print(\"Missing images for the following masks:\")\n",
        "    print(missing_images)\n",
        "else:\n",
        "    print(\"No missing images.\")\n",
        "\n",
        "if missing_masks:\n",
        "    print(\"Missing masks for the following images:\")\n",
        "    print(missing_masks)\n",
        "else:\n",
        "    print(\"No missing masks.\")\n"
      ],
      "metadata": {
        "colab": {
          "base_uri": "https://localhost:8080/"
        },
        "id": "5MKNpEMH3Y1t",
        "outputId": "bb203b60-7915-450a-c8f1-c700f4d29cce"
      },
      "execution_count": 34,
      "outputs": [
        {
          "output_type": "stream",
          "name": "stdout",
          "text": [
            "Missing images for the following masks:\n",
            "['CHNCXR_0001_0_mask', 'CHNCXR_0002_0_mask', 'CHNCXR_0003_0_mask', 'CHNCXR_0004_0_mask', 'CHNCXR_0005_0_mask', 'CHNCXR_0006_0_mask', 'CHNCXR_0007_0_mask', 'CHNCXR_0008_0_mask', 'CHNCXR_0009_0_mask', 'CHNCXR_0010_0_mask', 'CHNCXR_0011_0_mask', 'CHNCXR_0012_0_mask', 'CHNCXR_0013_0_mask', 'CHNCXR_0014_0_mask', 'CHNCXR_0015_0_mask', 'CHNCXR_0016_0_mask', 'CHNCXR_0017_0_mask', 'CHNCXR_0018_0_mask', 'CHNCXR_0019_0_mask', 'CHNCXR_0020_0_mask', 'CHNCXR_0021_0_mask', 'CHNCXR_0022_0_mask', 'CHNCXR_0023_0_mask', 'CHNCXR_0024_0_mask', 'CHNCXR_0026_0_mask', 'CHNCXR_0027_0_mask', 'CHNCXR_0028_0_mask', 'CHNCXR_0029_0_mask', 'CHNCXR_0030_0_mask', 'CHNCXR_0031_0_mask', 'CHNCXR_0032_0_mask', 'CHNCXR_0033_0_mask', 'CHNCXR_0034_0_mask', 'CHNCXR_0035_0_mask', 'CHNCXR_0041_0_mask', 'CHNCXR_0042_0_mask', 'CHNCXR_0043_0_mask', 'CHNCXR_0044_0_mask', 'CHNCXR_0045_0_mask', 'CHNCXR_0046_0_mask', 'CHNCXR_0047_0_mask', 'CHNCXR_0048_0_mask', 'CHNCXR_0049_0_mask', 'CHNCXR_0050_0_mask', 'CHNCXR_0051_0_mask', 'CHNCXR_0052_0_mask', 'CHNCXR_0053_0_mask', 'CHNCXR_0054_0_mask', 'CHNCXR_0055_0_mask', 'CHNCXR_0056_0_mask', 'CHNCXR_0057_0_mask', 'CHNCXR_0058_0_mask', 'CHNCXR_0059_0_mask', 'CHNCXR_0060_0_mask', 'CHNCXR_0061_0_mask', 'CHNCXR_0062_0_mask', 'CHNCXR_0063_0_mask', 'CHNCXR_0064_0_mask', 'CHNCXR_0066_0_mask', 'CHNCXR_0067_0_mask', 'CHNCXR_0068_0_mask', 'CHNCXR_0069_0_mask', 'CHNCXR_0070_0_mask', 'CHNCXR_0071_0_mask', 'CHNCXR_0072_0_mask', 'CHNCXR_0073_0_mask', 'CHNCXR_0074_0_mask', 'CHNCXR_0075_0_mask', 'CHNCXR_0076_0_mask', 'CHNCXR_0077_0_mask', 'CHNCXR_0078_0_mask', 'CHNCXR_0079_0_mask', 'CHNCXR_0080_0_mask', 'CHNCXR_0081_0_mask', 'CHNCXR_0082_0_mask', 'CHNCXR_0083_0_mask', 'CHNCXR_0084_0_mask', 'CHNCXR_0085_0_mask', 'CHNCXR_0086_0_mask', 'CHNCXR_0087_0_mask', 'CHNCXR_0088_0_mask', 'CHNCXR_0089_0_mask', 'CHNCXR_0090_0_mask', 'CHNCXR_0091_0_mask', 'CHNCXR_0092_0_mask', 'CHNCXR_0093_0_mask', 'CHNCXR_0094_0_mask', 'CHNCXR_0095_0_mask', 'CHNCXR_0096_0_mask', 'CHNCXR_0097_0_mask', 'CHNCXR_0098_0_mask', 'CHNCXR_0099_0_mask', 'CHNCXR_0100_0_mask', 'CHNCXR_0101_0_mask', 'CHNCXR_0102_0_mask', 'CHNCXR_0103_0_mask', 'CHNCXR_0104_0_mask', 'CHNCXR_0105_0_mask', 'CHNCXR_0106_0_mask', 'CHNCXR_0107_0_mask', 'CHNCXR_0108_0_mask', 'CHNCXR_0109_0_mask', 'CHNCXR_0110_0_mask', 'CHNCXR_0111_0_mask', 'CHNCXR_0112_0_mask', 'CHNCXR_0113_0_mask', 'CHNCXR_0114_0_mask', 'CHNCXR_0115_0_mask', 'CHNCXR_0116_0_mask', 'CHNCXR_0117_0_mask', 'CHNCXR_0118_0_mask', 'CHNCXR_0119_0_mask', 'CHNCXR_0120_0_mask', 'CHNCXR_0121_0_mask', 'CHNCXR_0122_0_mask', 'CHNCXR_0123_0_mask', 'CHNCXR_0124_0_mask', 'CHNCXR_0125_0_mask', 'CHNCXR_0126_0_mask', 'CHNCXR_0127_0_mask', 'CHNCXR_0128_0_mask', 'CHNCXR_0129_0_mask', 'CHNCXR_0130_0_mask', 'CHNCXR_0131_0_mask', 'CHNCXR_0132_0_mask', 'CHNCXR_0133_0_mask', 'CHNCXR_0134_0_mask', 'CHNCXR_0135_0_mask', 'CHNCXR_0136_0_mask', 'CHNCXR_0137_0_mask', 'CHNCXR_0138_0_mask', 'CHNCXR_0139_0_mask', 'CHNCXR_0140_0_mask', 'CHNCXR_0141_0_mask', 'CHNCXR_0142_0_mask', 'CHNCXR_0143_0_mask', 'CHNCXR_0144_0_mask', 'CHNCXR_0145_0_mask', 'CHNCXR_0146_0_mask', 'CHNCXR_0147_0_mask', 'CHNCXR_0148_0_mask', 'CHNCXR_0149_0_mask', 'CHNCXR_0150_0_mask', 'CHNCXR_0151_0_mask', 'CHNCXR_0152_0_mask', 'CHNCXR_0153_0_mask', 'CHNCXR_0154_0_mask', 'CHNCXR_0155_0_mask', 'CHNCXR_0156_0_mask', 'CHNCXR_0157_0_mask', 'CHNCXR_0158_0_mask', 'CHNCXR_0159_0_mask', 'CHNCXR_0160_0_mask', 'CHNCXR_0161_0_mask', 'CHNCXR_0162_0_mask', 'CHNCXR_0163_0_mask', 'CHNCXR_0164_0_mask', 'CHNCXR_0165_0_mask', 'CHNCXR_0166_0_mask', 'CHNCXR_0167_0_mask', 'CHNCXR_0168_0_mask', 'CHNCXR_0169_0_mask', 'CHNCXR_0170_0_mask', 'CHNCXR_0171_0_mask', 'CHNCXR_0172_0_mask', 'CHNCXR_0173_0_mask', 'CHNCXR_0174_0_mask', 'CHNCXR_0175_0_mask', 'CHNCXR_0176_0_mask', 'CHNCXR_0177_0_mask', 'CHNCXR_0178_0_mask', 'CHNCXR_0179_0_mask', 'CHNCXR_0180_0_mask', 'CHNCXR_0221_0_mask', 'CHNCXR_0222_0_mask', 'CHNCXR_0223_0_mask', 'CHNCXR_0224_0_mask', 'CHNCXR_0225_0_mask', 'CHNCXR_0226_0_mask', 'CHNCXR_0227_0_mask', 'CHNCXR_0228_0_mask', 'CHNCXR_0229_0_mask', 'CHNCXR_0230_0_mask', 'CHNCXR_0231_0_mask', 'CHNCXR_0232_0_mask', 'CHNCXR_0233_0_mask', 'CHNCXR_0234_0_mask', 'CHNCXR_0235_0_mask', 'CHNCXR_0236_0_mask', 'CHNCXR_0237_0_mask', 'CHNCXR_0238_0_mask', 'CHNCXR_0239_0_mask', 'CHNCXR_0240_0_mask', 'CHNCXR_0241_0_mask', 'CHNCXR_0242_0_mask', 'CHNCXR_0243_0_mask', 'CHNCXR_0244_0_mask', 'CHNCXR_0245_0_mask', 'CHNCXR_0246_0_mask', 'CHNCXR_0247_0_mask', 'CHNCXR_0248_0_mask', 'CHNCXR_0249_0_mask', 'CHNCXR_0250_0_mask', 'CHNCXR_0251_0_mask', 'CHNCXR_0252_0_mask', 'CHNCXR_0253_0_mask', 'CHNCXR_0254_0_mask', 'CHNCXR_0255_0_mask', 'CHNCXR_0256_0_mask', 'CHNCXR_0257_0_mask', 'CHNCXR_0258_0_mask', 'CHNCXR_0259_0_mask', 'CHNCXR_0260_0_mask', 'CHNCXR_0261_0_mask', 'CHNCXR_0262_0_mask', 'CHNCXR_0263_0_mask', 'CHNCXR_0264_0_mask', 'CHNCXR_0265_0_mask', 'CHNCXR_0266_0_mask', 'CHNCXR_0267_0_mask', 'CHNCXR_0268_0_mask', 'CHNCXR_0269_0_mask', 'CHNCXR_0270_0_mask', 'CHNCXR_0271_0_mask', 'CHNCXR_0272_0_mask', 'CHNCXR_0273_0_mask', 'CHNCXR_0274_0_mask', 'CHNCXR_0275_0_mask', 'CHNCXR_0276_0_mask', 'CHNCXR_0277_0_mask', 'CHNCXR_0278_0_mask', 'CHNCXR_0279_0_mask', 'CHNCXR_0280_0_mask', 'CHNCXR_0281_0_mask', 'CHNCXR_0282_0_mask', 'CHNCXR_0283_0_mask', 'CHNCXR_0284_0_mask', 'CHNCXR_0285_0_mask', 'CHNCXR_0286_0_mask', 'CHNCXR_0287_0_mask', 'CHNCXR_0288_0_mask', 'CHNCXR_0289_0_mask', 'CHNCXR_0290_0_mask', 'CHNCXR_0291_0_mask', 'CHNCXR_0292_0_mask', 'CHNCXR_0293_0_mask', 'CHNCXR_0294_0_mask', 'CHNCXR_0295_0_mask', 'CHNCXR_0296_0_mask', 'CHNCXR_0297_0_mask', 'CHNCXR_0298_0_mask', 'CHNCXR_0299_0_mask', 'CHNCXR_0300_0_mask', 'CHNCXR_0301_0_mask', 'CHNCXR_0302_0_mask', 'CHNCXR_0303_0_mask', 'CHNCXR_0304_0_mask', 'CHNCXR_0305_0_mask', 'CHNCXR_0306_0_mask', 'CHNCXR_0307_0_mask', 'CHNCXR_0308_0_mask', 'CHNCXR_0309_0_mask', 'CHNCXR_0310_0_mask', 'CHNCXR_0311_0_mask', 'CHNCXR_0312_0_mask', 'CHNCXR_0313_0_mask', 'CHNCXR_0314_0_mask', 'CHNCXR_0315_0_mask', 'CHNCXR_0316_0_mask', 'CHNCXR_0317_0_mask', 'CHNCXR_0318_0_mask', 'CHNCXR_0319_0_mask', 'CHNCXR_0320_0_mask', 'CHNCXR_0321_0_mask', 'CHNCXR_0322_0_mask', 'CHNCXR_0323_0_mask', 'CHNCXR_0324_0_mask', 'CHNCXR_0325_0_mask', 'CHNCXR_0326_0_mask', 'CHNCXR_0327_1_mask', 'CHNCXR_0328_1_mask', 'CHNCXR_0329_1_mask', 'CHNCXR_0330_1_mask', 'CHNCXR_0331_1_mask', 'CHNCXR_0332_1_mask', 'CHNCXR_0333_1_mask', 'CHNCXR_0334_1_mask', 'CHNCXR_0335_1_mask', 'CHNCXR_0337_1_mask', 'CHNCXR_0338_1_mask', 'CHNCXR_0339_1_mask', 'CHNCXR_0340_1_mask', 'CHNCXR_0361_1_mask', 'CHNCXR_0362_1_mask', 'CHNCXR_0363_1_mask', 'CHNCXR_0364_1_mask', 'CHNCXR_0365_1_mask', 'CHNCXR_0366_1_mask', 'CHNCXR_0367_1_mask', 'CHNCXR_0368_1_mask', 'CHNCXR_0369_1_mask', 'CHNCXR_0370_1_mask', 'CHNCXR_0371_1_mask', 'CHNCXR_0372_1_mask', 'CHNCXR_0373_1_mask', 'CHNCXR_0374_1_mask', 'CHNCXR_0375_1_mask', 'CHNCXR_0376_1_mask', 'CHNCXR_0377_1_mask', 'CHNCXR_0378_1_mask', 'CHNCXR_0379_1_mask', 'CHNCXR_0380_1_mask', 'CHNCXR_0381_1_mask', 'CHNCXR_0382_1_mask', 'CHNCXR_0383_1_mask', 'CHNCXR_0384_1_mask', 'CHNCXR_0385_1_mask', 'CHNCXR_0386_1_mask', 'CHNCXR_0387_1_mask', 'CHNCXR_0388_1_mask', 'CHNCXR_0389_1_mask', 'CHNCXR_0390_1_mask', 'CHNCXR_0391_1_mask', 'CHNCXR_0392_1_mask', 'CHNCXR_0393_1_mask', 'CHNCXR_0394_1_mask', 'CHNCXR_0395_1_mask', 'CHNCXR_0396_1_mask', 'CHNCXR_0397_1_mask', 'CHNCXR_0398_1_mask', 'CHNCXR_0399_1_mask', 'CHNCXR_0400_1_mask', 'CHNCXR_0401_1_mask', 'CHNCXR_0402_1_mask', 'CHNCXR_0403_1_mask', 'CHNCXR_0404_1_mask', 'CHNCXR_0405_1_mask', 'CHNCXR_0406_1_mask', 'CHNCXR_0407_1_mask', 'CHNCXR_0408_1_mask', 'CHNCXR_0409_1_mask', 'CHNCXR_0410_1_mask', 'CHNCXR_0411_1_mask', 'CHNCXR_0412_1_mask', 'CHNCXR_0413_1_mask', 'CHNCXR_0414_1_mask', 'CHNCXR_0415_1_mask', 'CHNCXR_0416_1_mask', 'CHNCXR_0417_1_mask', 'CHNCXR_0418_1_mask', 'CHNCXR_0419_1_mask', 'CHNCXR_0420_1_mask', 'CHNCXR_0421_1_mask', 'CHNCXR_0422_1_mask', 'CHNCXR_0423_1_mask', 'CHNCXR_0424_1_mask', 'CHNCXR_0425_1_mask', 'CHNCXR_0426_1_mask', 'CHNCXR_0427_1_mask', 'CHNCXR_0428_1_mask', 'CHNCXR_0429_1_mask', 'CHNCXR_0430_1_mask', 'CHNCXR_0431_1_mask', 'CHNCXR_0432_1_mask', 'CHNCXR_0433_1_mask', 'CHNCXR_0434_1_mask', 'CHNCXR_0435_1_mask', 'CHNCXR_0436_1_mask', 'CHNCXR_0437_1_mask', 'CHNCXR_0438_1_mask', 'CHNCXR_0439_1_mask', 'CHNCXR_0440_1_mask', 'CHNCXR_0441_1_mask', 'CHNCXR_0442_1_mask', 'CHNCXR_0443_1_mask', 'CHNCXR_0444_1_mask', 'CHNCXR_0445_1_mask', 'CHNCXR_0446_1_mask', 'CHNCXR_0447_1_mask', 'CHNCXR_0448_1_mask', 'CHNCXR_0449_1_mask', 'CHNCXR_0450_1_mask', 'CHNCXR_0451_1_mask', 'CHNCXR_0452_1_mask', 'CHNCXR_0453_1_mask', 'CHNCXR_0454_1_mask', 'CHNCXR_0455_1_mask', 'CHNCXR_0456_1_mask', 'CHNCXR_0457_1_mask', 'CHNCXR_0458_1_mask', 'CHNCXR_0459_1_mask', 'CHNCXR_0460_1_mask', 'CHNCXR_0461_1_mask', 'CHNCXR_0462_1_mask', 'CHNCXR_0463_1_mask', 'CHNCXR_0464_1_mask', 'CHNCXR_0465_1_mask', 'CHNCXR_0466_1_mask', 'CHNCXR_0467_1_mask', 'CHNCXR_0468_1_mask', 'CHNCXR_0469_1_mask', 'CHNCXR_0470_1_mask', 'CHNCXR_0471_1_mask', 'CHNCXR_0472_1_mask', 'CHNCXR_0473_1_mask', 'CHNCXR_0474_1_mask', 'CHNCXR_0475_1_mask', 'CHNCXR_0476_1_mask', 'CHNCXR_0477_1_mask', 'CHNCXR_0478_1_mask', 'CHNCXR_0479_1_mask', 'CHNCXR_0480_1_mask', 'CHNCXR_0501_1_mask', 'CHNCXR_0503_1_mask', 'CHNCXR_0504_1_mask', 'CHNCXR_0506_1_mask', 'CHNCXR_0507_1_mask', 'CHNCXR_0508_1_mask', 'CHNCXR_0509_1_mask', 'CHNCXR_0510_1_mask', 'CHNCXR_0511_1_mask', 'CHNCXR_0512_1_mask', 'CHNCXR_0513_1_mask', 'CHNCXR_0514_1_mask', 'CHNCXR_0515_1_mask', 'CHNCXR_0516_1_mask', 'CHNCXR_0517_1_mask', 'CHNCXR_0518_1_mask', 'CHNCXR_0519_1_mask', 'CHNCXR_0520_1_mask', 'CHNCXR_0521_1_mask', 'CHNCXR_0522_1_mask', 'CHNCXR_0523_1_mask', 'CHNCXR_0524_1_mask', 'CHNCXR_0525_1_mask', 'CHNCXR_0526_1_mask', 'CHNCXR_0527_1_mask', 'CHNCXR_0528_1_mask', 'CHNCXR_0529_1_mask', 'CHNCXR_0530_1_mask', 'CHNCXR_0531_1_mask', 'CHNCXR_0532_1_mask', 'CHNCXR_0533_1_mask', 'CHNCXR_0534_1_mask', 'CHNCXR_0535_1_mask', 'CHNCXR_0536_1_mask', 'CHNCXR_0537_1_mask', 'CHNCXR_0538_1_mask', 'CHNCXR_0539_1_mask', 'CHNCXR_0540_1_mask', 'CHNCXR_0541_1_mask', 'CHNCXR_0542_1_mask', 'CHNCXR_0543_1_mask', 'CHNCXR_0544_1_mask', 'CHNCXR_0545_1_mask', 'CHNCXR_0546_1_mask', 'CHNCXR_0547_1_mask', 'CHNCXR_0548_1_mask', 'CHNCXR_0549_1_mask', 'CHNCXR_0550_1_mask', 'CHNCXR_0551_1_mask', 'CHNCXR_0552_1_mask', 'CHNCXR_0553_1_mask', 'CHNCXR_0554_1_mask', 'CHNCXR_0555_1_mask', 'CHNCXR_0556_1_mask', 'CHNCXR_0557_1_mask', 'CHNCXR_0558_1_mask', 'CHNCXR_0559_1_mask', 'CHNCXR_0566_1_mask', 'CHNCXR_0567_1_mask', 'CHNCXR_0568_1_mask', 'CHNCXR_0569_1_mask', 'CHNCXR_0570_1_mask', 'CHNCXR_0571_1_mask', 'CHNCXR_0572_1_mask', 'CHNCXR_0573_1_mask', 'CHNCXR_0574_1_mask', 'CHNCXR_0575_1_mask', 'CHNCXR_0576_1_mask', 'CHNCXR_0577_1_mask', 'CHNCXR_0578_1_mask', 'CHNCXR_0579_1_mask', 'CHNCXR_0580_1_mask', 'CHNCXR_0581_1_mask', 'CHNCXR_0582_1_mask', 'CHNCXR_0583_1_mask', 'CHNCXR_0584_1_mask', 'CHNCXR_0585_1_mask', 'CHNCXR_0586_1_mask', 'CHNCXR_0587_1_mask', 'CHNCXR_0588_1_mask', 'CHNCXR_0589_1_mask', 'CHNCXR_0590_1_mask', 'CHNCXR_0591_1_mask', 'CHNCXR_0592_1_mask', 'CHNCXR_0593_1_mask', 'CHNCXR_0594_1_mask', 'CHNCXR_0595_1_mask', 'CHNCXR_0596_1_mask', 'CHNCXR_0597_1_mask', 'CHNCXR_0598_1_mask', 'CHNCXR_0599_1_mask', 'CHNCXR_0600_1_mask', 'CHNCXR_0601_1_mask', 'CHNCXR_0602_1_mask', 'CHNCXR_0603_1_mask', 'CHNCXR_0604_1_mask', 'CHNCXR_0605_1_mask', 'CHNCXR_0606_1_mask', 'CHNCXR_0607_1_mask', 'CHNCXR_0608_1_mask', 'CHNCXR_0609_1_mask', 'CHNCXR_0610_1_mask', 'CHNCXR_0611_1_mask', 'CHNCXR_0612_1_mask', 'CHNCXR_0613_1_mask', 'CHNCXR_0614_1_mask', 'CHNCXR_0615_1_mask', 'CHNCXR_0616_1_mask', 'CHNCXR_0617_1_mask', 'CHNCXR_0618_1_mask', 'CHNCXR_0619_1_mask', 'CHNCXR_0620_1_mask', 'CHNCXR_0621_1_mask', 'CHNCXR_0622_1_mask', 'CHNCXR_0623_1_mask', 'CHNCXR_0624_1_mask', 'CHNCXR_0625_1_mask', 'CHNCXR_0626_1_mask', 'CHNCXR_0627_1_mask', 'CHNCXR_0628_1_mask', 'CHNCXR_0629_1_mask', 'CHNCXR_0630_1_mask', 'CHNCXR_0631_1_mask', 'CHNCXR_0632_1_mask', 'CHNCXR_0633_1_mask', 'CHNCXR_0634_1_mask', 'CHNCXR_0635_1_mask', 'CHNCXR_0636_1_mask', 'CHNCXR_0637_1_mask', 'CHNCXR_0638_1_mask', 'CHNCXR_0639_1_mask', 'CHNCXR_0640_1_mask', 'CHNCXR_0641_1_mask', 'CHNCXR_0642_1_mask', 'CHNCXR_0643_1_mask', 'CHNCXR_0644_1_mask', 'CHNCXR_0645_1_mask', 'CHNCXR_0646_1_mask', 'CHNCXR_0647_1_mask', 'CHNCXR_0648_1_mask', 'CHNCXR_0649_1_mask', 'CHNCXR_0650_1_mask', 'CHNCXR_0651_1_mask', 'CHNCXR_0652_1_mask', 'CHNCXR_0653_1_mask', 'CHNCXR_0654_1_mask', 'CHNCXR_0655_1_mask', 'CHNCXR_0656_1_mask', 'CHNCXR_0657_1_mask', 'CHNCXR_0658_1_mask', 'CHNCXR_0659_1_mask', 'CHNCXR_0660_1_mask', 'CHNCXR_0661_1_mask', 'CHNCXR_0662_1_mask', 'MCUCXR_0001_0_mask', 'MCUCXR_0002_0_mask', 'MCUCXR_0003_0_mask', 'MCUCXR_0004_0_mask', 'MCUCXR_0005_0_mask', 'MCUCXR_0006_0_mask', 'MCUCXR_0008_0_mask', 'MCUCXR_0011_0_mask', 'MCUCXR_0013_0_mask', 'MCUCXR_0015_0_mask', 'MCUCXR_0016_0_mask', 'MCUCXR_0017_0_mask', 'MCUCXR_0019_0_mask', 'MCUCXR_0020_0_mask', 'MCUCXR_0021_0_mask', 'MCUCXR_0022_0_mask', 'MCUCXR_0023_0_mask', 'MCUCXR_0024_0_mask', 'MCUCXR_0026_0_mask', 'MCUCXR_0027_0_mask', 'MCUCXR_0028_0_mask', 'MCUCXR_0029_0_mask', 'MCUCXR_0030_0_mask', 'MCUCXR_0031_0_mask', 'MCUCXR_0035_0_mask', 'MCUCXR_0038_0_mask', 'MCUCXR_0040_0_mask', 'MCUCXR_0041_0_mask', 'MCUCXR_0042_0_mask', 'MCUCXR_0043_0_mask', 'MCUCXR_0044_0_mask', 'MCUCXR_0045_0_mask', 'MCUCXR_0046_0_mask', 'MCUCXR_0047_0_mask', 'MCUCXR_0048_0_mask', 'MCUCXR_0049_0_mask', 'MCUCXR_0051_0_mask', 'MCUCXR_0052_0_mask', 'MCUCXR_0053_0_mask', 'MCUCXR_0054_0_mask', 'MCUCXR_0055_0_mask', 'MCUCXR_0056_0_mask', 'MCUCXR_0057_0_mask', 'MCUCXR_0058_0_mask', 'MCUCXR_0059_0_mask', 'MCUCXR_0060_0_mask', 'MCUCXR_0061_0_mask', 'MCUCXR_0062_0_mask', 'MCUCXR_0063_0_mask', 'MCUCXR_0064_0_mask', 'MCUCXR_0068_0_mask', 'MCUCXR_0069_0_mask', 'MCUCXR_0070_0_mask', 'MCUCXR_0071_0_mask', 'MCUCXR_0072_0_mask', 'MCUCXR_0074_0_mask', 'MCUCXR_0075_0_mask', 'MCUCXR_0077_0_mask', 'MCUCXR_0079_0_mask', 'MCUCXR_0080_0_mask', 'MCUCXR_0081_0_mask', 'MCUCXR_0082_0_mask', 'MCUCXR_0083_0_mask', 'MCUCXR_0084_0_mask', 'MCUCXR_0085_0_mask', 'MCUCXR_0086_0_mask', 'MCUCXR_0087_0_mask', 'MCUCXR_0089_0_mask', 'MCUCXR_0090_0_mask', 'MCUCXR_0091_0_mask', 'MCUCXR_0092_0_mask', 'MCUCXR_0094_0_mask', 'MCUCXR_0095_0_mask', 'MCUCXR_0096_0_mask', 'MCUCXR_0097_0_mask', 'MCUCXR_0099_0_mask', 'MCUCXR_0100_0_mask', 'MCUCXR_0101_0_mask', 'MCUCXR_0102_0_mask', 'MCUCXR_0103_0_mask', 'MCUCXR_0104_1_mask', 'MCUCXR_0108_1_mask', 'MCUCXR_0113_1_mask', 'MCUCXR_0117_1_mask', 'MCUCXR_0126_1_mask', 'MCUCXR_0140_1_mask', 'MCUCXR_0141_1_mask', 'MCUCXR_0142_1_mask', 'MCUCXR_0144_1_mask', 'MCUCXR_0150_1_mask', 'MCUCXR_0162_1_mask', 'MCUCXR_0166_1_mask', 'MCUCXR_0170_1_mask', 'MCUCXR_0173_1_mask', 'MCUCXR_0182_1_mask', 'MCUCXR_0188_1_mask', 'MCUCXR_0194_1_mask', 'MCUCXR_0195_1_mask', 'MCUCXR_0196_1_mask', 'MCUCXR_0203_1_mask', 'MCUCXR_0213_1_mask', 'MCUCXR_0218_1_mask', 'MCUCXR_0223_1_mask', 'MCUCXR_0228_1_mask', 'MCUCXR_0243_1_mask', 'MCUCXR_0251_1_mask', 'MCUCXR_0253_1_mask', 'MCUCXR_0254_1_mask', 'MCUCXR_0255_1_mask', 'MCUCXR_0258_1_mask', 'MCUCXR_0264_1_mask', 'MCUCXR_0266_1_mask', 'MCUCXR_0275_1_mask', 'MCUCXR_0282_1_mask', 'MCUCXR_0289_1_mask', 'MCUCXR_0294_1_mask', 'MCUCXR_0301_1_mask', 'MCUCXR_0309_1_mask', 'MCUCXR_0311_1_mask', 'MCUCXR_0313_1_mask', 'MCUCXR_0316_1_mask', 'MCUCXR_0331_1_mask', 'MCUCXR_0334_1_mask', 'MCUCXR_0338_1_mask', 'MCUCXR_0348_1_mask', 'MCUCXR_0350_1_mask', 'MCUCXR_0352_1_mask', 'MCUCXR_0354_1_mask', 'MCUCXR_0362_1_mask', 'MCUCXR_0367_1_mask', 'MCUCXR_0369_1_mask', 'MCUCXR_0372_1_mask', 'MCUCXR_0375_1_mask', 'MCUCXR_0383_1_mask', 'MCUCXR_0387_1_mask', 'MCUCXR_0390_1_mask', 'MCUCXR_0393_1_mask', 'MCUCXR_0399_1_mask']\n",
            "Missing masks for the following images:\n",
            "['CHNCXR_0001_0', 'CHNCXR_0002_0', 'CHNCXR_0003_0', 'CHNCXR_0004_0', 'CHNCXR_0005_0', 'CHNCXR_0006_0', 'CHNCXR_0007_0', 'CHNCXR_0008_0', 'CHNCXR_0009_0', 'CHNCXR_0010_0', 'CHNCXR_0011_0', 'CHNCXR_0012_0', 'CHNCXR_0013_0', 'CHNCXR_0014_0', 'CHNCXR_0015_0', 'CHNCXR_0016_0', 'CHNCXR_0017_0', 'CHNCXR_0018_0', 'CHNCXR_0019_0', 'CHNCXR_0020_0', 'CHNCXR_0021_0', 'CHNCXR_0022_0', 'CHNCXR_0023_0', 'CHNCXR_0024_0', 'CHNCXR_0025_0', 'CHNCXR_0026_0', 'CHNCXR_0027_0', 'CHNCXR_0028_0', 'CHNCXR_0029_0', 'CHNCXR_0030_0', 'CHNCXR_0031_0', 'CHNCXR_0032_0', 'CHNCXR_0033_0', 'CHNCXR_0034_0', 'CHNCXR_0035_0', 'CHNCXR_0036_0', 'CHNCXR_0037_0', 'CHNCXR_0038_0', 'CHNCXR_0039_0', 'CHNCXR_0040_0', 'CHNCXR_0041_0', 'CHNCXR_0042_0', 'CHNCXR_0043_0', 'CHNCXR_0044_0', 'CHNCXR_0045_0', 'CHNCXR_0046_0', 'CHNCXR_0047_0', 'CHNCXR_0048_0', 'CHNCXR_0049_0', 'CHNCXR_0050_0', 'CHNCXR_0051_0', 'CHNCXR_0052_0', 'CHNCXR_0053_0', 'CHNCXR_0054_0', 'CHNCXR_0055_0', 'CHNCXR_0056_0', 'CHNCXR_0057_0', 'CHNCXR_0058_0', 'CHNCXR_0059_0', 'CHNCXR_0060_0', 'CHNCXR_0061_0', 'CHNCXR_0062_0', 'CHNCXR_0063_0', 'CHNCXR_0064_0', 'CHNCXR_0065_0', 'CHNCXR_0066_0', 'CHNCXR_0067_0', 'CHNCXR_0068_0', 'CHNCXR_0069_0', 'CHNCXR_0070_0', 'CHNCXR_0071_0', 'CHNCXR_0072_0', 'CHNCXR_0073_0', 'CHNCXR_0074_0', 'CHNCXR_0075_0', 'CHNCXR_0076_0', 'CHNCXR_0077_0', 'CHNCXR_0078_0', 'CHNCXR_0079_0', 'CHNCXR_0080_0', 'CHNCXR_0081_0', 'CHNCXR_0082_0', 'CHNCXR_0083_0', 'CHNCXR_0084_0', 'CHNCXR_0085_0', 'CHNCXR_0086_0', 'CHNCXR_0087_0', 'CHNCXR_0088_0', 'CHNCXR_0089_0', 'CHNCXR_0090_0', 'CHNCXR_0091_0', 'CHNCXR_0092_0', 'CHNCXR_0093_0', 'CHNCXR_0094_0', 'CHNCXR_0095_0', 'CHNCXR_0096_0', 'CHNCXR_0097_0', 'CHNCXR_0098_0', 'CHNCXR_0099_0', 'CHNCXR_0100_0', 'CHNCXR_0101_0', 'CHNCXR_0102_0', 'CHNCXR_0103_0', 'CHNCXR_0104_0', 'CHNCXR_0105_0', 'CHNCXR_0106_0', 'CHNCXR_0107_0', 'CHNCXR_0108_0', 'CHNCXR_0109_0', 'CHNCXR_0110_0', 'CHNCXR_0111_0', 'CHNCXR_0112_0', 'CHNCXR_0113_0', 'CHNCXR_0114_0', 'CHNCXR_0115_0', 'CHNCXR_0116_0', 'CHNCXR_0117_0', 'CHNCXR_0118_0', 'CHNCXR_0119_0', 'CHNCXR_0120_0', 'CHNCXR_0121_0', 'CHNCXR_0122_0', 'CHNCXR_0123_0', 'CHNCXR_0124_0', 'CHNCXR_0125_0', 'CHNCXR_0126_0', 'CHNCXR_0127_0', 'CHNCXR_0128_0', 'CHNCXR_0129_0', 'CHNCXR_0130_0', 'CHNCXR_0131_0', 'CHNCXR_0132_0', 'CHNCXR_0133_0', 'CHNCXR_0134_0', 'CHNCXR_0135_0', 'CHNCXR_0136_0', 'CHNCXR_0137_0', 'CHNCXR_0138_0', 'CHNCXR_0139_0', 'CHNCXR_0140_0', 'CHNCXR_0141_0', 'CHNCXR_0142_0', 'CHNCXR_0143_0', 'CHNCXR_0144_0', 'CHNCXR_0145_0', 'CHNCXR_0146_0', 'CHNCXR_0147_0', 'CHNCXR_0148_0', 'CHNCXR_0149_0', 'CHNCXR_0150_0', 'CHNCXR_0151_0', 'CHNCXR_0152_0', 'CHNCXR_0153_0', 'CHNCXR_0154_0', 'CHNCXR_0155_0', 'CHNCXR_0156_0', 'CHNCXR_0157_0', 'CHNCXR_0158_0', 'CHNCXR_0159_0', 'CHNCXR_0160_0', 'CHNCXR_0161_0', 'CHNCXR_0162_0', 'CHNCXR_0163_0', 'CHNCXR_0164_0', 'CHNCXR_0165_0', 'CHNCXR_0166_0', 'CHNCXR_0167_0', 'CHNCXR_0168_0', 'CHNCXR_0169_0', 'CHNCXR_0170_0', 'CHNCXR_0171_0', 'CHNCXR_0172_0', 'CHNCXR_0173_0', 'CHNCXR_0174_0', 'CHNCXR_0175_0', 'CHNCXR_0176_0', 'CHNCXR_0177_0', 'CHNCXR_0178_0', 'CHNCXR_0179_0', 'CHNCXR_0180_0', 'CHNCXR_0181_0', 'CHNCXR_0182_0', 'CHNCXR_0183_0', 'CHNCXR_0184_0', 'CHNCXR_0185_0', 'CHNCXR_0186_0', 'CHNCXR_0187_0', 'CHNCXR_0188_0', 'CHNCXR_0189_0', 'CHNCXR_0190_0', 'CHNCXR_0191_0', 'CHNCXR_0192_0', 'CHNCXR_0193_0', 'CHNCXR_0194_0', 'CHNCXR_0195_0', 'CHNCXR_0196_0', 'CHNCXR_0197_0', 'CHNCXR_0198_0', 'CHNCXR_0199_0', 'CHNCXR_0200_0', 'CHNCXR_0201_0', 'CHNCXR_0202_0', 'CHNCXR_0203_0', 'CHNCXR_0204_0', 'CHNCXR_0205_0', 'CHNCXR_0206_0', 'CHNCXR_0207_0', 'CHNCXR_0208_0', 'CHNCXR_0209_0', 'CHNCXR_0210_0', 'CHNCXR_0211_0', 'CHNCXR_0212_0', 'CHNCXR_0213_0', 'CHNCXR_0214_0', 'CHNCXR_0215_0', 'CHNCXR_0216_0', 'CHNCXR_0217_0', 'CHNCXR_0218_0', 'CHNCXR_0219_0', 'CHNCXR_0220_0', 'CHNCXR_0221_0', 'CHNCXR_0222_0', 'CHNCXR_0223_0', 'CHNCXR_0224_0', 'CHNCXR_0225_0', 'CHNCXR_0226_0', 'CHNCXR_0227_0', 'CHNCXR_0228_0', 'CHNCXR_0229_0', 'CHNCXR_0230_0', 'CHNCXR_0231_0', 'CHNCXR_0232_0', 'CHNCXR_0233_0', 'CHNCXR_0234_0', 'CHNCXR_0235_0', 'CHNCXR_0236_0', 'CHNCXR_0237_0', 'CHNCXR_0238_0', 'CHNCXR_0239_0', 'CHNCXR_0240_0', 'CHNCXR_0241_0', 'CHNCXR_0242_0', 'CHNCXR_0243_0', 'CHNCXR_0244_0', 'CHNCXR_0245_0', 'CHNCXR_0246_0', 'CHNCXR_0247_0', 'CHNCXR_0248_0', 'CHNCXR_0249_0', 'CHNCXR_0250_0', 'CHNCXR_0251_0', 'CHNCXR_0252_0', 'CHNCXR_0253_0', 'CHNCXR_0254_0', 'CHNCXR_0255_0', 'CHNCXR_0256_0', 'CHNCXR_0257_0', 'CHNCXR_0258_0', 'CHNCXR_0259_0', 'CHNCXR_0260_0', 'CHNCXR_0261_0', 'CHNCXR_0262_0', 'CHNCXR_0263_0', 'CHNCXR_0264_0', 'CHNCXR_0265_0', 'CHNCXR_0266_0', 'CHNCXR_0267_0', 'CHNCXR_0268_0', 'CHNCXR_0269_0', 'CHNCXR_0270_0', 'CHNCXR_0271_0', 'CHNCXR_0272_0', 'CHNCXR_0273_0', 'CHNCXR_0274_0', 'CHNCXR_0275_0', 'CHNCXR_0276_0', 'CHNCXR_0277_0', 'CHNCXR_0278_0', 'CHNCXR_0279_0', 'CHNCXR_0280_0', 'CHNCXR_0281_0', 'CHNCXR_0282_0', 'CHNCXR_0283_0', 'CHNCXR_0284_0', 'CHNCXR_0285_0', 'CHNCXR_0286_0', 'CHNCXR_0287_0', 'CHNCXR_0288_0', 'CHNCXR_0289_0', 'CHNCXR_0290_0', 'CHNCXR_0291_0', 'CHNCXR_0292_0', 'CHNCXR_0293_0', 'CHNCXR_0294_0', 'CHNCXR_0295_0', 'CHNCXR_0296_0', 'CHNCXR_0297_0', 'CHNCXR_0298_0', 'CHNCXR_0299_0', 'CHNCXR_0300_0', 'CHNCXR_0301_0', 'CHNCXR_0302_0', 'CHNCXR_0303_0', 'CHNCXR_0304_0', 'CHNCXR_0305_0', 'CHNCXR_0306_0', 'CHNCXR_0307_0', 'CHNCXR_0308_0', 'CHNCXR_0309_0', 'CHNCXR_0310_0', 'CHNCXR_0311_0', 'CHNCXR_0312_0', 'CHNCXR_0313_0', 'CHNCXR_0314_0', 'CHNCXR_0315_0', 'CHNCXR_0316_0', 'CHNCXR_0317_0', 'CHNCXR_0318_0', 'CHNCXR_0319_0', 'CHNCXR_0320_0', 'CHNCXR_0321_0', 'CHNCXR_0322_0', 'CHNCXR_0323_0', 'CHNCXR_0324_0', 'CHNCXR_0325_0', 'CHNCXR_0326_0', 'CHNCXR_0327_1', 'CHNCXR_0328_1', 'CHNCXR_0329_1', 'CHNCXR_0330_1', 'CHNCXR_0331_1', 'CHNCXR_0332_1', 'CHNCXR_0333_1', 'CHNCXR_0334_1', 'CHNCXR_0335_1', 'CHNCXR_0336_1', 'CHNCXR_0337_1', 'CHNCXR_0338_1', 'CHNCXR_0339_1', 'CHNCXR_0340_1', 'CHNCXR_0341_1', 'CHNCXR_0342_1', 'CHNCXR_0343_1', 'CHNCXR_0344_1', 'CHNCXR_0345_1', 'CHNCXR_0346_1', 'CHNCXR_0347_1', 'CHNCXR_0348_1', 'CHNCXR_0349_1', 'CHNCXR_0350_1', 'CHNCXR_0351_1', 'CHNCXR_0352_1', 'CHNCXR_0353_1', 'CHNCXR_0354_1', 'CHNCXR_0355_1', 'CHNCXR_0356_1', 'CHNCXR_0357_1', 'CHNCXR_0358_1', 'CHNCXR_0359_1', 'CHNCXR_0360_1', 'CHNCXR_0361_1', 'CHNCXR_0362_1', 'CHNCXR_0363_1', 'CHNCXR_0364_1', 'CHNCXR_0365_1', 'CHNCXR_0366_1', 'CHNCXR_0367_1', 'CHNCXR_0368_1', 'CHNCXR_0369_1', 'CHNCXR_0370_1', 'CHNCXR_0371_1', 'CHNCXR_0372_1', 'CHNCXR_0373_1', 'CHNCXR_0374_1', 'CHNCXR_0375_1', 'CHNCXR_0376_1', 'CHNCXR_0377_1', 'CHNCXR_0378_1', 'CHNCXR_0379_1', 'CHNCXR_0380_1', 'CHNCXR_0381_1', 'CHNCXR_0382_1', 'CHNCXR_0383_1', 'CHNCXR_0384_1', 'CHNCXR_0385_1', 'CHNCXR_0386_1', 'CHNCXR_0387_1', 'CHNCXR_0388_1', 'CHNCXR_0389_1', 'CHNCXR_0390_1', 'CHNCXR_0391_1', 'CHNCXR_0392_1', 'CHNCXR_0393_1', 'CHNCXR_0394_1', 'CHNCXR_0395_1', 'CHNCXR_0396_1', 'CHNCXR_0397_1', 'CHNCXR_0398_1', 'CHNCXR_0399_1', 'CHNCXR_0400_1', 'CHNCXR_0401_1', 'CHNCXR_0402_1', 'CHNCXR_0403_1', 'CHNCXR_0404_1', 'CHNCXR_0405_1', 'CHNCXR_0406_1', 'CHNCXR_0407_1', 'CHNCXR_0408_1', 'CHNCXR_0409_1', 'CHNCXR_0410_1', 'CHNCXR_0411_1', 'CHNCXR_0412_1', 'CHNCXR_0413_1', 'CHNCXR_0414_1', 'CHNCXR_0415_1', 'CHNCXR_0416_1', 'CHNCXR_0417_1', 'CHNCXR_0418_1', 'CHNCXR_0419_1', 'CHNCXR_0420_1', 'CHNCXR_0421_1', 'CHNCXR_0422_1', 'CHNCXR_0423_1', 'CHNCXR_0424_1', 'CHNCXR_0425_1', 'CHNCXR_0426_1', 'CHNCXR_0427_1', 'CHNCXR_0428_1', 'CHNCXR_0429_1', 'CHNCXR_0430_1', 'CHNCXR_0431_1', 'CHNCXR_0432_1', 'CHNCXR_0433_1', 'CHNCXR_0434_1', 'CHNCXR_0435_1', 'CHNCXR_0436_1', 'CHNCXR_0437_1', 'CHNCXR_0438_1', 'CHNCXR_0439_1', 'CHNCXR_0440_1', 'CHNCXR_0441_1', 'CHNCXR_0442_1', 'CHNCXR_0443_1', 'CHNCXR_0444_1', 'CHNCXR_0445_1', 'CHNCXR_0446_1', 'CHNCXR_0447_1', 'CHNCXR_0448_1', 'CHNCXR_0449_1', 'CHNCXR_0450_1', 'CHNCXR_0451_1', 'CHNCXR_0452_1', 'CHNCXR_0453_1', 'CHNCXR_0454_1', 'CHNCXR_0455_1', 'CHNCXR_0456_1', 'CHNCXR_0457_1', 'CHNCXR_0458_1', 'CHNCXR_0459_1', 'CHNCXR_0460_1', 'CHNCXR_0461_1', 'CHNCXR_0462_1', 'CHNCXR_0463_1', 'CHNCXR_0464_1', 'CHNCXR_0465_1', 'CHNCXR_0466_1', 'CHNCXR_0467_1', 'CHNCXR_0468_1', 'CHNCXR_0469_1', 'CHNCXR_0470_1', 'CHNCXR_0471_1', 'CHNCXR_0472_1', 'CHNCXR_0473_1', 'CHNCXR_0474_1', 'CHNCXR_0475_1', 'CHNCXR_0476_1', 'CHNCXR_0477_1', 'CHNCXR_0478_1', 'CHNCXR_0479_1', 'CHNCXR_0480_1', 'CHNCXR_0481_1', 'CHNCXR_0482_1', 'CHNCXR_0483_1', 'CHNCXR_0484_1', 'CHNCXR_0485_1', 'CHNCXR_0486_1', 'CHNCXR_0487_1', 'CHNCXR_0488_1', 'CHNCXR_0489_1', 'CHNCXR_0490_1', 'CHNCXR_0491_1', 'CHNCXR_0492_1', 'CHNCXR_0493_1', 'CHNCXR_0494_1', 'CHNCXR_0495_1', 'CHNCXR_0496_1', 'CHNCXR_0497_1', 'CHNCXR_0498_1', 'CHNCXR_0499_1', 'CHNCXR_0500_1', 'CHNCXR_0501_1', 'CHNCXR_0502_1', 'CHNCXR_0503_1', 'CHNCXR_0504_1', 'CHNCXR_0505_1', 'CHNCXR_0506_1', 'CHNCXR_0507_1', 'CHNCXR_0508_1', 'CHNCXR_0509_1', 'CHNCXR_0510_1', 'CHNCXR_0511_1', 'CHNCXR_0512_1', 'CHNCXR_0513_1', 'CHNCXR_0514_1', 'CHNCXR_0515_1', 'CHNCXR_0516_1', 'CHNCXR_0517_1', 'CHNCXR_0518_1', 'CHNCXR_0519_1', 'CHNCXR_0520_1', 'CHNCXR_0521_1', 'CHNCXR_0522_1', 'CHNCXR_0523_1', 'CHNCXR_0524_1', 'CHNCXR_0525_1', 'CHNCXR_0526_1', 'CHNCXR_0527_1', 'CHNCXR_0528_1', 'CHNCXR_0529_1', 'CHNCXR_0530_1', 'CHNCXR_0531_1', 'CHNCXR_0532_1', 'CHNCXR_0533_1', 'CHNCXR_0534_1', 'CHNCXR_0535_1', 'CHNCXR_0536_1', 'CHNCXR_0537_1', 'CHNCXR_0538_1', 'CHNCXR_0539_1', 'CHNCXR_0540_1', 'CHNCXR_0541_1', 'CHNCXR_0542_1', 'CHNCXR_0543_1', 'CHNCXR_0544_1', 'CHNCXR_0545_1', 'CHNCXR_0546_1', 'CHNCXR_0547_1', 'CHNCXR_0548_1', 'CHNCXR_0549_1', 'CHNCXR_0550_1', 'CHNCXR_0551_1', 'CHNCXR_0552_1', 'CHNCXR_0553_1', 'CHNCXR_0554_1', 'CHNCXR_0555_1', 'CHNCXR_0556_1', 'CHNCXR_0557_1', 'CHNCXR_0558_1', 'CHNCXR_0559_1', 'CHNCXR_0560_1', 'CHNCXR_0561_1', 'CHNCXR_0562_1', 'CHNCXR_0563_1', 'CHNCXR_0564_1', 'CHNCXR_0565_1', 'CHNCXR_0566_1', 'CHNCXR_0567_1', 'CHNCXR_0568_1', 'CHNCXR_0569_1', 'CHNCXR_0570_1', 'CHNCXR_0571_1', 'CHNCXR_0572_1', 'CHNCXR_0573_1', 'CHNCXR_0574_1', 'CHNCXR_0575_1', 'CHNCXR_0576_1', 'CHNCXR_0577_1', 'CHNCXR_0578_1', 'CHNCXR_0579_1', 'CHNCXR_0580_1', 'CHNCXR_0581_1', 'CHNCXR_0582_1', 'CHNCXR_0583_1', 'CHNCXR_0584_1', 'CHNCXR_0585_1', 'CHNCXR_0586_1', 'CHNCXR_0587_1', 'CHNCXR_0588_1', 'CHNCXR_0589_1', 'CHNCXR_0590_1', 'CHNCXR_0591_1', 'CHNCXR_0592_1', 'CHNCXR_0593_1', 'CHNCXR_0594_1', 'CHNCXR_0595_1', 'CHNCXR_0596_1', 'CHNCXR_0597_1', 'CHNCXR_0598_1', 'CHNCXR_0599_1', 'CHNCXR_0600_1', 'CHNCXR_0601_1', 'CHNCXR_0602_1', 'CHNCXR_0603_1', 'CHNCXR_0604_1', 'CHNCXR_0605_1', 'CHNCXR_0606_1', 'CHNCXR_0607_1', 'CHNCXR_0608_1', 'CHNCXR_0609_1', 'CHNCXR_0610_1', 'CHNCXR_0611_1', 'CHNCXR_0612_1', 'CHNCXR_0613_1', 'CHNCXR_0614_1', 'CHNCXR_0615_1', 'CHNCXR_0616_1', 'CHNCXR_0617_1', 'CHNCXR_0618_1', 'CHNCXR_0619_1', 'CHNCXR_0620_1', 'CHNCXR_0621_1', 'CHNCXR_0622_1', 'CHNCXR_0623_1', 'CHNCXR_0624_1', 'CHNCXR_0625_1', 'CHNCXR_0626_1', 'CHNCXR_0627_1', 'CHNCXR_0628_1', 'CHNCXR_0629_1', 'CHNCXR_0630_1', 'CHNCXR_0631_1', 'CHNCXR_0632_1', 'CHNCXR_0633_1', 'CHNCXR_0634_1', 'CHNCXR_0635_1', 'CHNCXR_0636_1', 'CHNCXR_0637_1', 'CHNCXR_0638_1', 'CHNCXR_0639_1', 'CHNCXR_0640_1', 'CHNCXR_0641_1', 'CHNCXR_0642_1', 'CHNCXR_0643_1', 'CHNCXR_0644_1', 'CHNCXR_0645_1', 'CHNCXR_0646_1', 'CHNCXR_0647_1', 'CHNCXR_0648_1', 'CHNCXR_0649_1', 'CHNCXR_0650_1', 'CHNCXR_0651_1', 'CHNCXR_0652_1', 'CHNCXR_0653_1', 'CHNCXR_0654_1', 'CHNCXR_0655_1', 'CHNCXR_0656_1', 'CHNCXR_0657_1', 'CHNCXR_0658_1', 'CHNCXR_0659_1', 'CHNCXR_0660_1', 'CHNCXR_0661_1', 'CHNCXR_0662_1', 'MCUCXR_0001_0', 'MCUCXR_0002_0', 'MCUCXR_0003_0', 'MCUCXR_0004_0', 'MCUCXR_0005_0', 'MCUCXR_0006_0', 'MCUCXR_0008_0', 'MCUCXR_0011_0', 'MCUCXR_0013_0', 'MCUCXR_0015_0', 'MCUCXR_0016_0', 'MCUCXR_0017_0', 'MCUCXR_0019_0', 'MCUCXR_0020_0', 'MCUCXR_0021_0', 'MCUCXR_0022_0', 'MCUCXR_0023_0', 'MCUCXR_0024_0', 'MCUCXR_0026_0', 'MCUCXR_0027_0', 'MCUCXR_0028_0', 'MCUCXR_0029_0', 'MCUCXR_0030_0', 'MCUCXR_0031_0', 'MCUCXR_0035_0', 'MCUCXR_0038_0', 'MCUCXR_0040_0', 'MCUCXR_0041_0', 'MCUCXR_0042_0', 'MCUCXR_0043_0', 'MCUCXR_0044_0', 'MCUCXR_0045_0', 'MCUCXR_0046_0', 'MCUCXR_0047_0', 'MCUCXR_0048_0', 'MCUCXR_0049_0', 'MCUCXR_0051_0', 'MCUCXR_0052_0', 'MCUCXR_0053_0', 'MCUCXR_0054_0', 'MCUCXR_0055_0', 'MCUCXR_0056_0', 'MCUCXR_0057_0', 'MCUCXR_0058_0', 'MCUCXR_0059_0', 'MCUCXR_0060_0', 'MCUCXR_0061_0', 'MCUCXR_0062_0', 'MCUCXR_0063_0', 'MCUCXR_0064_0', 'MCUCXR_0068_0', 'MCUCXR_0069_0', 'MCUCXR_0070_0', 'MCUCXR_0071_0', 'MCUCXR_0072_0', 'MCUCXR_0074_0', 'MCUCXR_0075_0', 'MCUCXR_0077_0', 'MCUCXR_0079_0', 'MCUCXR_0080_0', 'MCUCXR_0081_0', 'MCUCXR_0082_0', 'MCUCXR_0083_0', 'MCUCXR_0084_0', 'MCUCXR_0085_0', 'MCUCXR_0086_0', 'MCUCXR_0087_0', 'MCUCXR_0089_0', 'MCUCXR_0090_0', 'MCUCXR_0091_0', 'MCUCXR_0092_0', 'MCUCXR_0094_0', 'MCUCXR_0095_0', 'MCUCXR_0096_0', 'MCUCXR_0097_0', 'MCUCXR_0099_0', 'MCUCXR_0100_0', 'MCUCXR_0101_0', 'MCUCXR_0102_0', 'MCUCXR_0103_0', 'MCUCXR_0104_1', 'MCUCXR_0108_1', 'MCUCXR_0113_1', 'MCUCXR_0117_1', 'MCUCXR_0126_1', 'MCUCXR_0140_1', 'MCUCXR_0141_1', 'MCUCXR_0142_1', 'MCUCXR_0144_1', 'MCUCXR_0150_1', 'MCUCXR_0162_1', 'MCUCXR_0166_1', 'MCUCXR_0170_1', 'MCUCXR_0173_1', 'MCUCXR_0182_1', 'MCUCXR_0188_1', 'MCUCXR_0194_1', 'MCUCXR_0195_1', 'MCUCXR_0196_1', 'MCUCXR_0203_1', 'MCUCXR_0213_1', 'MCUCXR_0218_1', 'MCUCXR_0223_1', 'MCUCXR_0228_1', 'MCUCXR_0243_1', 'MCUCXR_0251_1', 'MCUCXR_0253_1', 'MCUCXR_0254_1', 'MCUCXR_0255_1', 'MCUCXR_0258_1', 'MCUCXR_0264_1', 'MCUCXR_0266_1', 'MCUCXR_0275_1', 'MCUCXR_0282_1', 'MCUCXR_0289_1', 'MCUCXR_0294_1', 'MCUCXR_0301_1', 'MCUCXR_0309_1', 'MCUCXR_0311_1', 'MCUCXR_0313_1', 'MCUCXR_0316_1', 'MCUCXR_0331_1', 'MCUCXR_0334_1', 'MCUCXR_0338_1', 'MCUCXR_0348_1', 'MCUCXR_0350_1', 'MCUCXR_0352_1', 'MCUCXR_0354_1', 'MCUCXR_0362_1', 'MCUCXR_0367_1', 'MCUCXR_0369_1', 'MCUCXR_0372_1', 'MCUCXR_0375_1', 'MCUCXR_0383_1', 'MCUCXR_0387_1', 'MCUCXR_0390_1', 'MCUCXR_0393_1', 'MCUCXR_0399_1']\n"
          ]
        }
      ]
    },
    {
      "cell_type": "code",
      "source": [
        "import os\n",
        "\n",
        "\n",
        "# Get all image filenames (without extension)\n",
        "image_files = [f.split('.')[0] for f in os.listdir(image_dir) if os.path.isfile(os.path.join(image_dir, f))]\n",
        "\n",
        "# Check for missing masks\n",
        "missing_masks = []\n",
        "for image_name in image_files:\n",
        "    mask_name = image_name + '_mask.png'  # Assuming the mask is a PNG file and follows this pattern\n",
        "    if not os.path.exists(os.path.join(mask_dir, mask_name)):\n",
        "        missing_masks.append(image_name)\n",
        "\n",
        "# Print the results\n",
        "if missing_masks:\n",
        "    print(f'Missing masks for the following images: {missing_masks}')\n",
        "else:\n",
        "    print('No masks are missing.')\n"
      ],
      "metadata": {
        "colab": {
          "base_uri": "https://localhost:8080/"
        },
        "id": "wUNYW4xb4O8P",
        "outputId": "1e1c1c2f-0e9c-4131-fbbe-a5af457ac092"
      },
      "execution_count": 36,
      "outputs": [
        {
          "output_type": "stream",
          "name": "stdout",
          "text": [
            "Missing masks for the following images: ['CHNCXR_0025_0', 'CHNCXR_0036_0', 'CHNCXR_0037_0', 'CHNCXR_0038_0', 'CHNCXR_0039_0', 'CHNCXR_0040_0', 'CHNCXR_0065_0', 'CHNCXR_0181_0', 'CHNCXR_0182_0', 'CHNCXR_0183_0', 'CHNCXR_0184_0', 'CHNCXR_0185_0', 'CHNCXR_0186_0', 'CHNCXR_0187_0', 'CHNCXR_0188_0', 'CHNCXR_0189_0', 'CHNCXR_0190_0', 'CHNCXR_0191_0', 'CHNCXR_0192_0', 'CHNCXR_0193_0', 'CHNCXR_0194_0', 'CHNCXR_0195_0', 'CHNCXR_0196_0', 'CHNCXR_0197_0', 'CHNCXR_0198_0', 'CHNCXR_0199_0', 'CHNCXR_0200_0', 'CHNCXR_0201_0', 'CHNCXR_0202_0', 'CHNCXR_0203_0', 'CHNCXR_0204_0', 'CHNCXR_0205_0', 'CHNCXR_0206_0', 'CHNCXR_0207_0', 'CHNCXR_0208_0', 'CHNCXR_0209_0', 'CHNCXR_0210_0', 'CHNCXR_0211_0', 'CHNCXR_0212_0', 'CHNCXR_0213_0', 'CHNCXR_0214_0', 'CHNCXR_0215_0', 'CHNCXR_0216_0', 'CHNCXR_0217_0', 'CHNCXR_0218_0', 'CHNCXR_0219_0', 'CHNCXR_0220_0', 'CHNCXR_0336_1', 'CHNCXR_0341_1', 'CHNCXR_0342_1', 'CHNCXR_0343_1', 'CHNCXR_0344_1', 'CHNCXR_0345_1', 'CHNCXR_0346_1', 'CHNCXR_0347_1', 'CHNCXR_0348_1', 'CHNCXR_0349_1', 'CHNCXR_0350_1', 'CHNCXR_0351_1', 'CHNCXR_0352_1', 'CHNCXR_0353_1', 'CHNCXR_0354_1', 'CHNCXR_0355_1', 'CHNCXR_0356_1', 'CHNCXR_0357_1', 'CHNCXR_0358_1', 'CHNCXR_0359_1', 'CHNCXR_0360_1', 'CHNCXR_0481_1', 'CHNCXR_0482_1', 'CHNCXR_0483_1', 'CHNCXR_0484_1', 'CHNCXR_0485_1', 'CHNCXR_0486_1', 'CHNCXR_0487_1', 'CHNCXR_0488_1', 'CHNCXR_0489_1', 'CHNCXR_0490_1', 'CHNCXR_0491_1', 'CHNCXR_0492_1', 'CHNCXR_0493_1', 'CHNCXR_0494_1', 'CHNCXR_0495_1', 'CHNCXR_0496_1', 'CHNCXR_0497_1', 'CHNCXR_0498_1', 'CHNCXR_0499_1', 'CHNCXR_0500_1', 'CHNCXR_0502_1', 'CHNCXR_0505_1', 'CHNCXR_0560_1', 'CHNCXR_0561_1', 'CHNCXR_0562_1', 'CHNCXR_0563_1', 'CHNCXR_0564_1', 'CHNCXR_0565_1']\n"
          ]
        }
      ]
    },
    {
      "cell_type": "code",
      "source": [
        "train_ds,test_ds=train_test_split(dataset,test_size=0.2,random_state=42)\n",
        "train_ds,val_ds=train_test_split(train_ds,test_size=0.2,random_state=42)"
      ],
      "metadata": {
        "colab": {
          "base_uri": "https://localhost:8080/",
          "height": 304
        },
        "id": "-WeCVEef12VK",
        "outputId": "485ecf61-1d7f-478e-e3d4-99a22204eb30"
      },
      "execution_count": 31,
      "outputs": [
        {
          "output_type": "error",
          "ename": "IndexError",
          "evalue": "list index out of range",
          "traceback": [
            "\u001b[0;31m---------------------------------------------------------------------------\u001b[0m",
            "\u001b[0;31mIndexError\u001b[0m                                Traceback (most recent call last)",
            "\u001b[0;32m<ipython-input-31-1e55f8bfa3c6>\u001b[0m in \u001b[0;36m<cell line: 0>\u001b[0;34m()\u001b[0m\n\u001b[0;32m----> 1\u001b[0;31m \u001b[0mtrain_ds\u001b[0m\u001b[0;34m,\u001b[0m\u001b[0mtest_ds\u001b[0m\u001b[0;34m=\u001b[0m\u001b[0mtrain_test_split\u001b[0m\u001b[0;34m(\u001b[0m\u001b[0mdataset\u001b[0m\u001b[0;34m,\u001b[0m\u001b[0mtest_size\u001b[0m\u001b[0;34m=\u001b[0m\u001b[0;36m0.2\u001b[0m\u001b[0;34m,\u001b[0m\u001b[0mrandom_state\u001b[0m\u001b[0;34m=\u001b[0m\u001b[0;36m42\u001b[0m\u001b[0;34m)\u001b[0m\u001b[0;34m\u001b[0m\u001b[0;34m\u001b[0m\u001b[0m\n\u001b[0m\u001b[1;32m      2\u001b[0m \u001b[0mtrain_ds\u001b[0m\u001b[0;34m,\u001b[0m\u001b[0mval_ds\u001b[0m\u001b[0;34m=\u001b[0m\u001b[0mtrain_test_split\u001b[0m\u001b[0;34m(\u001b[0m\u001b[0mtrain_ds\u001b[0m\u001b[0;34m,\u001b[0m\u001b[0mtest_size\u001b[0m\u001b[0;34m=\u001b[0m\u001b[0;36m0.2\u001b[0m\u001b[0;34m,\u001b[0m\u001b[0mrandom_state\u001b[0m\u001b[0;34m=\u001b[0m\u001b[0;36m42\u001b[0m\u001b[0;34m)\u001b[0m\u001b[0;34m\u001b[0m\u001b[0;34m\u001b[0m\u001b[0m\n",
            "\u001b[0;32m/usr/local/lib/python3.11/dist-packages/sklearn/utils/_param_validation.py\u001b[0m in \u001b[0;36mwrapper\u001b[0;34m(*args, **kwargs)\u001b[0m\n\u001b[1;32m    214\u001b[0m                     )\n\u001b[1;32m    215\u001b[0m                 ):\n\u001b[0;32m--> 216\u001b[0;31m                     \u001b[0;32mreturn\u001b[0m \u001b[0mfunc\u001b[0m\u001b[0;34m(\u001b[0m\u001b[0;34m*\u001b[0m\u001b[0margs\u001b[0m\u001b[0;34m,\u001b[0m \u001b[0;34m**\u001b[0m\u001b[0mkwargs\u001b[0m\u001b[0;34m)\u001b[0m\u001b[0;34m\u001b[0m\u001b[0;34m\u001b[0m\u001b[0m\n\u001b[0m\u001b[1;32m    217\u001b[0m             \u001b[0;32mexcept\u001b[0m \u001b[0mInvalidParameterError\u001b[0m \u001b[0;32mas\u001b[0m \u001b[0me\u001b[0m\u001b[0;34m:\u001b[0m\u001b[0;34m\u001b[0m\u001b[0;34m\u001b[0m\u001b[0m\n\u001b[1;32m    218\u001b[0m                 \u001b[0;31m# When the function is just a wrapper around an estimator, we allow\u001b[0m\u001b[0;34m\u001b[0m\u001b[0;34m\u001b[0m\u001b[0m\n",
            "\u001b[0;32m/usr/local/lib/python3.11/dist-packages/sklearn/model_selection/_split.py\u001b[0m in \u001b[0;36mtrain_test_split\u001b[0;34m(test_size, train_size, random_state, shuffle, stratify, *arrays)\u001b[0m\n\u001b[1;32m   2874\u001b[0m     \u001b[0mtrain\u001b[0m\u001b[0;34m,\u001b[0m \u001b[0mtest\u001b[0m \u001b[0;34m=\u001b[0m \u001b[0mensure_common_namespace_device\u001b[0m\u001b[0;34m(\u001b[0m\u001b[0marrays\u001b[0m\u001b[0;34m[\u001b[0m\u001b[0;36m0\u001b[0m\u001b[0;34m]\u001b[0m\u001b[0;34m,\u001b[0m \u001b[0mtrain\u001b[0m\u001b[0;34m,\u001b[0m \u001b[0mtest\u001b[0m\u001b[0;34m)\u001b[0m\u001b[0;34m\u001b[0m\u001b[0;34m\u001b[0m\u001b[0m\n\u001b[1;32m   2875\u001b[0m \u001b[0;34m\u001b[0m\u001b[0m\n\u001b[0;32m-> 2876\u001b[0;31m     return list(\n\u001b[0m\u001b[1;32m   2877\u001b[0m         chain.from_iterable(\n\u001b[1;32m   2878\u001b[0m             \u001b[0;34m(\u001b[0m\u001b[0m_safe_indexing\u001b[0m\u001b[0;34m(\u001b[0m\u001b[0ma\u001b[0m\u001b[0;34m,\u001b[0m \u001b[0mtrain\u001b[0m\u001b[0;34m)\u001b[0m\u001b[0;34m,\u001b[0m \u001b[0m_safe_indexing\u001b[0m\u001b[0;34m(\u001b[0m\u001b[0ma\u001b[0m\u001b[0;34m,\u001b[0m \u001b[0mtest\u001b[0m\u001b[0;34m)\u001b[0m\u001b[0;34m)\u001b[0m \u001b[0;32mfor\u001b[0m \u001b[0ma\u001b[0m \u001b[0;32min\u001b[0m \u001b[0marrays\u001b[0m\u001b[0;34m\u001b[0m\u001b[0;34m\u001b[0m\u001b[0m\n",
            "\u001b[0;32m/usr/local/lib/python3.11/dist-packages/sklearn/model_selection/_split.py\u001b[0m in \u001b[0;36m<genexpr>\u001b[0;34m(.0)\u001b[0m\n\u001b[1;32m   2876\u001b[0m     return list(\n\u001b[1;32m   2877\u001b[0m         chain.from_iterable(\n\u001b[0;32m-> 2878\u001b[0;31m             \u001b[0;34m(\u001b[0m\u001b[0m_safe_indexing\u001b[0m\u001b[0;34m(\u001b[0m\u001b[0ma\u001b[0m\u001b[0;34m,\u001b[0m \u001b[0mtrain\u001b[0m\u001b[0;34m)\u001b[0m\u001b[0;34m,\u001b[0m \u001b[0m_safe_indexing\u001b[0m\u001b[0;34m(\u001b[0m\u001b[0ma\u001b[0m\u001b[0;34m,\u001b[0m \u001b[0mtest\u001b[0m\u001b[0;34m)\u001b[0m\u001b[0;34m)\u001b[0m \u001b[0;32mfor\u001b[0m \u001b[0ma\u001b[0m \u001b[0;32min\u001b[0m \u001b[0marrays\u001b[0m\u001b[0;34m\u001b[0m\u001b[0;34m\u001b[0m\u001b[0m\n\u001b[0m\u001b[1;32m   2879\u001b[0m         )\n\u001b[1;32m   2880\u001b[0m     )\n",
            "\u001b[0;32m/usr/local/lib/python3.11/dist-packages/sklearn/utils/_indexing.py\u001b[0m in \u001b[0;36m_safe_indexing\u001b[0;34m(X, indices, axis)\u001b[0m\n\u001b[1;32m    270\u001b[0m         \u001b[0;32mreturn\u001b[0m \u001b[0m_array_indexing\u001b[0m\u001b[0;34m(\u001b[0m\u001b[0mX\u001b[0m\u001b[0;34m,\u001b[0m \u001b[0mindices\u001b[0m\u001b[0;34m,\u001b[0m \u001b[0mindices_dtype\u001b[0m\u001b[0;34m,\u001b[0m \u001b[0maxis\u001b[0m\u001b[0;34m=\u001b[0m\u001b[0maxis\u001b[0m\u001b[0;34m)\u001b[0m\u001b[0;34m\u001b[0m\u001b[0;34m\u001b[0m\u001b[0m\n\u001b[1;32m    271\u001b[0m     \u001b[0;32melse\u001b[0m\u001b[0;34m:\u001b[0m\u001b[0;34m\u001b[0m\u001b[0;34m\u001b[0m\u001b[0m\n\u001b[0;32m--> 272\u001b[0;31m         \u001b[0;32mreturn\u001b[0m \u001b[0m_list_indexing\u001b[0m\u001b[0;34m(\u001b[0m\u001b[0mX\u001b[0m\u001b[0;34m,\u001b[0m \u001b[0mindices\u001b[0m\u001b[0;34m,\u001b[0m \u001b[0mindices_dtype\u001b[0m\u001b[0;34m)\u001b[0m\u001b[0;34m\u001b[0m\u001b[0;34m\u001b[0m\u001b[0m\n\u001b[0m\u001b[1;32m    273\u001b[0m \u001b[0;34m\u001b[0m\u001b[0m\n\u001b[1;32m    274\u001b[0m \u001b[0;34m\u001b[0m\u001b[0m\n",
            "\u001b[0;32m/usr/local/lib/python3.11/dist-packages/sklearn/utils/_indexing.py\u001b[0m in \u001b[0;36m_list_indexing\u001b[0;34m(X, key, key_dtype)\u001b[0m\n\u001b[1;32m     61\u001b[0m         \u001b[0;32mreturn\u001b[0m \u001b[0mlist\u001b[0m\u001b[0;34m(\u001b[0m\u001b[0mcompress\u001b[0m\u001b[0;34m(\u001b[0m\u001b[0mX\u001b[0m\u001b[0;34m,\u001b[0m \u001b[0mkey\u001b[0m\u001b[0;34m)\u001b[0m\u001b[0;34m)\u001b[0m\u001b[0;34m\u001b[0m\u001b[0;34m\u001b[0m\u001b[0m\n\u001b[1;32m     62\u001b[0m     \u001b[0;31m# key is a integer array-like of key\u001b[0m\u001b[0;34m\u001b[0m\u001b[0;34m\u001b[0m\u001b[0m\n\u001b[0;32m---> 63\u001b[0;31m     \u001b[0;32mreturn\u001b[0m \u001b[0;34m[\u001b[0m\u001b[0mX\u001b[0m\u001b[0;34m[\u001b[0m\u001b[0midx\u001b[0m\u001b[0;34m]\u001b[0m \u001b[0;32mfor\u001b[0m \u001b[0midx\u001b[0m \u001b[0;32min\u001b[0m \u001b[0mkey\u001b[0m\u001b[0;34m]\u001b[0m\u001b[0;34m\u001b[0m\u001b[0;34m\u001b[0m\u001b[0m\n\u001b[0m\u001b[1;32m     64\u001b[0m \u001b[0;34m\u001b[0m\u001b[0m\n\u001b[1;32m     65\u001b[0m \u001b[0;34m\u001b[0m\u001b[0m\n",
            "\u001b[0;32m/usr/local/lib/python3.11/dist-packages/sklearn/utils/_indexing.py\u001b[0m in \u001b[0;36m<listcomp>\u001b[0;34m(.0)\u001b[0m\n\u001b[1;32m     61\u001b[0m         \u001b[0;32mreturn\u001b[0m \u001b[0mlist\u001b[0m\u001b[0;34m(\u001b[0m\u001b[0mcompress\u001b[0m\u001b[0;34m(\u001b[0m\u001b[0mX\u001b[0m\u001b[0;34m,\u001b[0m \u001b[0mkey\u001b[0m\u001b[0;34m)\u001b[0m\u001b[0;34m)\u001b[0m\u001b[0;34m\u001b[0m\u001b[0;34m\u001b[0m\u001b[0m\n\u001b[1;32m     62\u001b[0m     \u001b[0;31m# key is a integer array-like of key\u001b[0m\u001b[0;34m\u001b[0m\u001b[0;34m\u001b[0m\u001b[0m\n\u001b[0;32m---> 63\u001b[0;31m     \u001b[0;32mreturn\u001b[0m \u001b[0;34m[\u001b[0m\u001b[0mX\u001b[0m\u001b[0;34m[\u001b[0m\u001b[0midx\u001b[0m\u001b[0;34m]\u001b[0m \u001b[0;32mfor\u001b[0m \u001b[0midx\u001b[0m \u001b[0;32min\u001b[0m \u001b[0mkey\u001b[0m\u001b[0;34m]\u001b[0m\u001b[0;34m\u001b[0m\u001b[0;34m\u001b[0m\u001b[0m\n\u001b[0m\u001b[1;32m     64\u001b[0m \u001b[0;34m\u001b[0m\u001b[0m\n\u001b[1;32m     65\u001b[0m \u001b[0;34m\u001b[0m\u001b[0m\n",
            "\u001b[0;32m<ipython-input-23-72af282e98cc>\u001b[0m in \u001b[0;36m__getitem__\u001b[0;34m(self, idx)\u001b[0m\n\u001b[1;32m     13\u001b[0m     \u001b[0;32mdef\u001b[0m \u001b[0m__getitem__\u001b[0m\u001b[0;34m(\u001b[0m\u001b[0mself\u001b[0m\u001b[0;34m,\u001b[0m \u001b[0midx\u001b[0m\u001b[0;34m)\u001b[0m\u001b[0;34m:\u001b[0m\u001b[0;34m\u001b[0m\u001b[0;34m\u001b[0m\u001b[0m\n\u001b[1;32m     14\u001b[0m         \u001b[0mimage_dir\u001b[0m \u001b[0;34m=\u001b[0m \u001b[0mos\u001b[0m\u001b[0;34m.\u001b[0m\u001b[0mpath\u001b[0m\u001b[0;34m.\u001b[0m\u001b[0mjoin\u001b[0m\u001b[0;34m(\u001b[0m\u001b[0mself\u001b[0m\u001b[0;34m.\u001b[0m\u001b[0mimage_paths\u001b[0m\u001b[0;34m,\u001b[0m \u001b[0mself\u001b[0m\u001b[0;34m.\u001b[0m\u001b[0mimage_filenames\u001b[0m\u001b[0;34m[\u001b[0m\u001b[0midx\u001b[0m\u001b[0;34m]\u001b[0m\u001b[0;34m)\u001b[0m\u001b[0;34m\u001b[0m\u001b[0;34m\u001b[0m\u001b[0m\n\u001b[0;32m---> 15\u001b[0;31m         \u001b[0mmask_dir\u001b[0m \u001b[0;34m=\u001b[0m \u001b[0mos\u001b[0m\u001b[0;34m.\u001b[0m\u001b[0mpath\u001b[0m\u001b[0;34m.\u001b[0m\u001b[0mjoin\u001b[0m\u001b[0;34m(\u001b[0m\u001b[0mself\u001b[0m\u001b[0;34m.\u001b[0m\u001b[0mmask_paths\u001b[0m\u001b[0;34m,\u001b[0m \u001b[0mself\u001b[0m\u001b[0;34m.\u001b[0m\u001b[0mmask_filenames\u001b[0m\u001b[0;34m[\u001b[0m\u001b[0midx\u001b[0m\u001b[0;34m]\u001b[0m\u001b[0;34m)\u001b[0m\u001b[0;34m\u001b[0m\u001b[0;34m\u001b[0m\u001b[0m\n\u001b[0m\u001b[1;32m     16\u001b[0m \u001b[0;34m\u001b[0m\u001b[0m\n\u001b[1;32m     17\u001b[0m         \u001b[0mimage\u001b[0m \u001b[0;34m=\u001b[0m \u001b[0mImage\u001b[0m\u001b[0;34m.\u001b[0m\u001b[0mopen\u001b[0m\u001b[0;34m(\u001b[0m\u001b[0mimage_dir\u001b[0m\u001b[0;34m)\u001b[0m\u001b[0;34m.\u001b[0m\u001b[0mconvert\u001b[0m\u001b[0;34m(\u001b[0m\u001b[0;34m'RGB'\u001b[0m\u001b[0;34m)\u001b[0m\u001b[0;34m\u001b[0m\u001b[0;34m\u001b[0m\u001b[0m\n",
            "\u001b[0;31mIndexError\u001b[0m: list index out of range"
          ]
        }
      ]
    },
    {
      "cell_type": "code",
      "source": [
        "from sklearn import train_test_split\n",
        "# Split data into training and validation\n",
        "train_size = int(0.8 * len(dataset))\n",
        "val_size = len(dataset) - train_size\n",
        "train_dataset, val_dataset = t.utils.data.random_split(dataset, [train_size, val_size])\n",
        "\n",
        "dataloader_train = t.utils.data.DataLoader(train_dataset, batch_size=1, shuffle=True)\n",
        "dataloader_val = t.utils.data.DataLoader(val_dataset, batch_size=1, shuffle=False)"
      ],
      "metadata": {
        "colab": {
          "base_uri": "https://localhost:8080/",
          "height": 401
        },
        "id": "Q88gPkJz1h0U",
        "outputId": "77a55724-c141-4cc3-a2c6-7cc0c2ee9892"
      },
      "execution_count": 29,
      "outputs": [
        {
          "output_type": "error",
          "ename": "ImportError",
          "evalue": "cannot import name 'train_test_split' from 'sklearn' (/usr/local/lib/python3.11/dist-packages/sklearn/__init__.py)",
          "traceback": [
            "\u001b[0;31m---------------------------------------------------------------------------\u001b[0m",
            "\u001b[0;31mImportError\u001b[0m                               Traceback (most recent call last)",
            "\u001b[0;32m<ipython-input-29-f609ec32c031>\u001b[0m in \u001b[0;36m<cell line: 0>\u001b[0;34m()\u001b[0m\n\u001b[0;32m----> 1\u001b[0;31m \u001b[0;32mfrom\u001b[0m \u001b[0msklearn\u001b[0m \u001b[0;32mimport\u001b[0m \u001b[0mtrain_test_split\u001b[0m\u001b[0;34m\u001b[0m\u001b[0;34m\u001b[0m\u001b[0m\n\u001b[0m\u001b[1;32m      2\u001b[0m \u001b[0;31m# Split data into training and validation\u001b[0m\u001b[0;34m\u001b[0m\u001b[0;34m\u001b[0m\u001b[0m\n\u001b[1;32m      3\u001b[0m \u001b[0mtrain_size\u001b[0m \u001b[0;34m=\u001b[0m \u001b[0mint\u001b[0m\u001b[0;34m(\u001b[0m\u001b[0;36m0.8\u001b[0m \u001b[0;34m*\u001b[0m \u001b[0mlen\u001b[0m\u001b[0;34m(\u001b[0m\u001b[0mdataset\u001b[0m\u001b[0;34m)\u001b[0m\u001b[0;34m)\u001b[0m\u001b[0;34m\u001b[0m\u001b[0;34m\u001b[0m\u001b[0m\n\u001b[1;32m      4\u001b[0m \u001b[0mval_size\u001b[0m \u001b[0;34m=\u001b[0m \u001b[0mlen\u001b[0m\u001b[0;34m(\u001b[0m\u001b[0mdataset\u001b[0m\u001b[0;34m)\u001b[0m \u001b[0;34m-\u001b[0m \u001b[0mtrain_size\u001b[0m\u001b[0;34m\u001b[0m\u001b[0;34m\u001b[0m\u001b[0m\n\u001b[1;32m      5\u001b[0m \u001b[0mtrain_dataset\u001b[0m\u001b[0;34m,\u001b[0m \u001b[0mval_dataset\u001b[0m \u001b[0;34m=\u001b[0m \u001b[0mt\u001b[0m\u001b[0;34m.\u001b[0m\u001b[0mutils\u001b[0m\u001b[0;34m.\u001b[0m\u001b[0mdata\u001b[0m\u001b[0;34m.\u001b[0m\u001b[0mrandom_split\u001b[0m\u001b[0;34m(\u001b[0m\u001b[0mdataset\u001b[0m\u001b[0;34m,\u001b[0m \u001b[0;34m[\u001b[0m\u001b[0mtrain_size\u001b[0m\u001b[0;34m,\u001b[0m \u001b[0mval_size\u001b[0m\u001b[0;34m]\u001b[0m\u001b[0;34m)\u001b[0m\u001b[0;34m\u001b[0m\u001b[0;34m\u001b[0m\u001b[0m\n",
            "\u001b[0;31mImportError\u001b[0m: cannot import name 'train_test_split' from 'sklearn' (/usr/local/lib/python3.11/dist-packages/sklearn/__init__.py)",
            "",
            "\u001b[0;31m---------------------------------------------------------------------------\u001b[0;32m\nNOTE: If your import is failing due to a missing package, you can\nmanually install dependencies using either !pip or !apt.\n\nTo view examples of installing some common dependencies, click the\n\"Open Examples\" button below.\n\u001b[0;31m---------------------------------------------------------------------------\u001b[0m\n"
          ],
          "errorDetails": {
            "actions": [
              {
                "action": "open_url",
                "actionText": "Open Examples",
                "url": "/notebooks/snippets/importing_libraries.ipynb"
              }
            ]
          }
        }
      ]
    },
    {
      "cell_type": "code",
      "source": [],
      "metadata": {
        "id": "PhVvOURf1u2h"
      },
      "execution_count": null,
      "outputs": []
    }
  ]
}